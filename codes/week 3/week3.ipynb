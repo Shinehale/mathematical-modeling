{
 "cells": [
  {
   "attachments": {},
   "cell_type": "markdown",
   "metadata": {},
   "source": [
    "# Code for week3 planning model\n",
    "At the part, we will have a look at the codes on the course, many thing will be understood after your coding.\n",
    "\n",
    "\n",
    "First of all, we need to import the libraries we need to make the work run"
   ]
  },
  {
   "cell_type": "code",
   "execution_count": 1,
   "metadata": {},
   "outputs": [],
   "source": [
    "from scipy.optimize import linprog as lp\n",
    "import numpy as np\n",
    "import pulp"
   ]
  },
  {
   "attachments": {},
   "cell_type": "markdown",
   "metadata": {},
   "source": [
    "## Exercise 1\n",
    "\n",
    "For the first question, we need to use the scipy as the tool for solving the Linear programming "
   ]
  },
  {
   "cell_type": "code",
   "execution_count": 2,
   "metadata": {},
   "outputs": [
    {
     "name": "stdout",
     "output_type": "stream",
     "text": [
      "The best choice of X are [20. 30.], the max value of the func is 3360.0\n"
     ]
    }
   ],
   "source": [
    "c1 = [-72, -64]\n",
    "A1 = [[1, 1],\n",
    "     [12, 8],\n",
    "     [3, 0]]\n",
    "b1 = [50, 480, 100]\n",
    "pot1 = lp(c = c1, A_ub = A1, b_ub = b1, method = 'highs')\n",
    "x1 = pot1.x\n",
    "val1 = -pot1.fun\n",
    "print(\"The best choice of X are {0}, the max value of the func is {1}\".format(x1, val1))"
   ]
  },
  {
   "attachments": {},
   "cell_type": "markdown",
   "metadata": {},
   "source": [
    "## Exercise 2 \n",
    "On the base of the exercise 1, we can have a more complex question for solving, but the method is the same,Only the formula are more complicated."
   ]
  },
  {
   "cell_type": "code",
   "execution_count": 3,
   "metadata": {},
   "outputs": [
    {
     "name": "stdout",
     "output_type": "stream",
     "text": [
      "The best choice of X are [  0.  168.   19.2  -0.   24.    0. ], the max value of the func is 3460.8\n"
     ]
    }
   ],
   "source": [
    "c2 = [-24, -16, -44, -32, 3, 3]\n",
    "A2 = [[1, 0, 0, 0, 1, 0],\n",
    "      [1.0/3, 1.0/4, 0, 0, 1.0/3, 1.0/4],\n",
    "      [4, 2, 0, 0, 6, 4]]\n",
    "b2 = [100, 50, 480]\n",
    "Aeq2 = [[0, 0, 1, 0, -0.8, 0],\n",
    "        [0, 0, 0, 1, 0, -0.75]]\n",
    "beq2 = [0, 0]\n",
    "pot2 = lp(c = c2, A_ub = A2, b_ub = b2, A_eq = Aeq2, b_eq = beq2, method = 'highs')\n",
    "x2 = pot2.x\n",
    "val2 = -pot2.fun\n",
    "print(\"The best choice of X are {0}, the max value of the func is {1}\".format(x2, val2))"
   ]
  },
  {
   "attachments": {},
   "cell_type": "markdown",
   "metadata": {},
   "source": [
    "## Exercise 3\n",
    "\n",
    "For this part, we need to solve the problem integer programming.\n",
    "- Integer programming\n",
    "- 0-1 integer programming\n",
    "- mixed integer programming"
   ]
  },
  {
   "cell_type": "code",
   "execution_count": 4,
   "metadata": {},
   "outputs": [
    {
     "name": "stdout",
     "output_type": "stream",
     "text": [
      "Integer_programming_problem\n",
      "2*x1 + 3*x2 + 4*x3\n",
      "[x1, x2, x3]\n",
      "Maximization Results:\n",
      "x1 = 64.0\n",
      "x2 = 168.0\n",
      "x3 = 0.0\n",
      "Total Maximization:  632.0\n"
     ]
    }
   ],
   "source": [
    "prob3 = pulp.LpProblem(\"Integer_programming_problem\", pulp.LpMaximize)\n",
    "\n",
    "x1 = pulp.LpVariable('x1', lowBound = 0, cat = 'Continuous')\n",
    "x2 = pulp.LpVariable('x2', lowBound = 0, cat = 'Integer')\n",
    "x3 = pulp.LpVariable('x3', lowBound = 0, cat = 'Continuous')\n",
    "\n",
    "prob3 += 2 * x1 + 3 * x2 + 4 * x3\n",
    "\n",
    "prob3 += 1.5 * x1 + 3 * x2 + 5 * x3 <= 600\n",
    "prob3 += 280 * x1 + 250 * x2 + 400 * x3 <= 60000\n",
    "\n",
    "prob3.solve()\n",
    "\n",
    "print(prob3.name)\n",
    "print(prob3.objective)\n",
    "print(prob3.variables())\n",
    "print(\"Maximization Results:\")\n",
    "for variable in prob3.variables():\n",
    "    print(variable.name, \"=\", variable.varValue)\n",
    "print(\"Total Maximization: \", pulp.value(prob3.objective))"
   ]
  },
  {
   "cell_type": "code",
   "execution_count": 5,
   "metadata": {},
   "outputs": [
    {
     "name": "stdout",
     "output_type": "stream",
     "text": [
      "0-1-Integer-programming\n",
      "2*x1 + 3*x2 + 4*x3\n",
      "[x1, x2, x3, y1, y2, y3]\n",
      "x1 = 80.0\n",
      "x2 = 150.0\n",
      "x3 = 0.0\n",
      "y1 = 1.0\n",
      "y2 = 1.0\n",
      "y3 = 0.0\n",
      "Total Maximization:  610.0\n"
     ]
    }
   ],
   "source": [
    "prob4 = pulp.LpProblem(\"0-1-Integer-programming\", pulp.LpMaximize)\n",
    "\n",
    "\n",
    "x1 = pulp.LpVariable('x1', lowBound = 0, cat = 'Integer')\n",
    "x2 = pulp.LpVariable('x2', lowBound = 0, cat = 'Integer')\n",
    "x3 = pulp.LpVariable('x3', lowBound = 0, cat = 'Integer')\n",
    "y1 = pulp.LpVariable('y1', lowBound = 0, upBound = 1, cat = 'Integer')\n",
    "y2 = pulp.LpVariable('y2', lowBound = 0, upBound = 1, cat = 'Integer')\n",
    "y3 = pulp.LpVariable('y3', lowBound = 0, upBound = 1, cat = 'Integer')\n",
    "\n",
    "prob4 += 2 * x1 + 3 * x2 + 4 * x3\n",
    "\n",
    "M = 1000\n",
    "\n",
    "prob4 += x1 >= 80 * y1\n",
    "prob4 += x2 >= 80 * y2\n",
    "prob4 += x3 >= 80 * y3\n",
    "prob4 += x1 <= M * y1\n",
    "prob4 += x2 <= M * y2\n",
    "prob4 += x3 <= M * y3\n",
    "prob4 += 1.5 * x1 + 3 * x2 + 5 * x3 <= 600\n",
    "prob4 += 280 * x1 + 250 * x2 + 400 * x3 <= 60000\n",
    "\n",
    "prob4.solve()\n",
    "\n",
    "print(prob4.name)\n",
    "print(prob4.objective)\n",
    "print(prob4.variables())\n",
    "for var in prob4.variables():\n",
    "    print(var.name, \"=\", var.varValue)\n",
    "print(\"Total Maximization: \", pulp.value(prob4.objective))\n"
   ]
  },
  {
   "attachments": {},
   "cell_type": "markdown",
   "metadata": {},
   "source": [
    "## Exercise 4\n",
    "\n",
    "This part is for the assignment decision! we should focus on how the variable's matrix is defined, and finally use the `pulp` for solving"
   ]
  },
  {
   "cell_type": "code",
   "execution_count": 6,
   "metadata": {},
   "outputs": [
    {
     "name": "stdout",
     "output_type": "stream",
     "text": [
      "1\n",
      "assignment_solution\n",
      "66.8*x_0_0 + 57.2*x_0_1 + 78*x_0_2 + 70*x_0_3 + 67.4*x_0_4 + 75.6*x_1_0 + 66*x_1_1 + 67.8*x_1_2 + 74.2*x_1_3 + 71*x_1_4 + 87*x_2_0 + 66.4*x_2_1 + 84.6*x_2_2 + 69.6*x_2_3 + 83.8*x_2_4 + 58.6*x_3_0 + 53*x_3_1 + 59.4*x_3_2 + 57.2*x_3_3 + 62.4*x_3_4\n",
      "[x_0_0, x_0_1, x_0_2, x_0_3, x_0_4, x_1_0, x_1_1, x_1_2, x_1_3, x_1_4, x_2_0, x_2_1, x_2_2, x_2_3, x_2_4, x_3_0, x_3_1, x_3_2, x_3_3, x_3_4]\n",
      "x_0_0 = 0.0\n",
      "x_0_1 = 1.0\n",
      "x_0_2 = 0.0\n",
      "x_0_3 = 0.0\n",
      "x_0_4 = 0.0\n",
      "x_1_0 = 0.0\n",
      "x_1_1 = 0.0\n",
      "x_1_2 = 1.0\n",
      "x_1_3 = 0.0\n",
      "x_1_4 = 0.0\n",
      "x_2_0 = 0.0\n",
      "x_2_1 = 0.0\n",
      "x_2_2 = 0.0\n",
      "x_2_3 = 1.0\n",
      "x_2_4 = 0.0\n",
      "x_3_0 = 1.0\n",
      "x_3_1 = 0.0\n",
      "x_3_2 = 0.0\n",
      "x_3_3 = 0.0\n",
      "x_3_4 = 0.0\n",
      "Total Maximization:  253.20000000000002\n"
     ]
    }
   ],
   "source": [
    "rows = 5\n",
    "n = 20\n",
    "\n",
    "prob5 = pulp.LpProblem('assignment_solution', pulp.LpMinimize)\n",
    "\n",
    "#define the target variables and grades\n",
    "x = [[pulp.LpVariable(f'x_{i}_{j}', lowBound = 0, upBound = 1, cat = \"Integer\") for i in range(n // rows)] for j in range(rows)]\n",
    "grades = [[66.8, 75.6, 87, 58.6],\n",
    "          [57.2, 66, 66.4, 53],\n",
    "          [78, 67.8, 84.6, 59.4],\n",
    "          [70, 74.2, 69.6, 57.2],\n",
    "          [67.4, 71, 83.8, 62.4]]\n",
    "\n",
    "## define the target function we wanna solve\n",
    "tmp = x[0][0] * grades[0][0]\n",
    "for i in range(rows):\n",
    "    for j in range(n // rows):\n",
    "        if i == 0 and j == 0:\n",
    "            continue\n",
    "        tmp += x[i][j] * grades[i][j]\n",
    "prob5 += tmp\n",
    "\n",
    "for j in range(n // rows):\n",
    "    tmp = x[0][j] \n",
    "    for i in range(1, rows):\n",
    "        tmp += x[i][j]\n",
    "    prob5 += tmp == 1\n",
    "for i in range(rows):\n",
    "    tmp = x[i][0]\n",
    "    for j in range(1, n // rows):\n",
    "        tmp += x[i][j]\n",
    "    prob5 += tmp <= 1\n",
    "    \n",
    "status = prob5.solve()\n",
    "print(status)\n",
    "print(prob5.name)\n",
    "print(prob5.objective)\n",
    "print(prob5.variables())\n",
    "for var in prob5.variables():\n",
    "    print(var.name, \"=\", var.varValue)\n",
    "print(\"Total Maximization: \", pulp.value(prob5.objective))\n"
   ]
  },
  {
   "attachments": {},
   "cell_type": "markdown",
   "metadata": {},
   "source": [
    "## Exercise 5"
   ]
  },
  {
   "attachments": {},
   "cell_type": "markdown",
   "metadata": {},
   "source": [
    "enumerate every case and then set them as a variable and convert the question into the discrete linear programming problem."
   ]
  }
 ],
 "metadata": {
  "kernelspec": {
   "display_name": "Python 3",
   "language": "python",
   "name": "python3"
  },
  "language_info": {
   "codemirror_mode": {
    "name": "ipython",
    "version": 3
   },
   "file_extension": ".py",
   "mimetype": "text/x-python",
   "name": "python",
   "nbconvert_exporter": "python",
   "pygments_lexer": "ipython3",
   "version": "3.11.2"
  },
  "orig_nbformat": 4
 },
 "nbformat": 4,
 "nbformat_minor": 2
}
