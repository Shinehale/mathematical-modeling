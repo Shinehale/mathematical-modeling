{
 "cells": [
  {
   "cell_type": "code",
   "execution_count": 1,
   "metadata": {},
   "outputs": [],
   "source": [
    "import numpy as np\n",
    "import matplotlib.pyplot as plt\n",
    "%matplotlib inline"
   ]
  },
  {
   "attachments": {},
   "cell_type": "markdown",
   "metadata": {},
   "source": [
    "# 概率模型\n",
    "\n",
    "- 简单概率模型\n",
    "- 马氏链模型\n",
    "- 随机游走模型\n",
    "\n",
    "##  马氏链模型\n",
    "\n",
    "- 描述一类重要的随机动态系统（过程）的模型\n",
    "- 从一时期到下时期所处的状态是随机的\n",
    "- 下时期状态只取决于本时期状态和转移概率 **(已知现在，将来于过去无关（无后效性）**\n",
    "\n",
    "### 1.健康与疾病\n",
    "Eg1. 人的健康状况分为健康和疾病两种状态，设对特定年龄段的人，今年健康、明年保持健康状态的概率为0.8, 而今年患病、明年转为健康状态的概率为0.7.\n",
    "\n",
    "我们可以定义一个矩阵模型，如下所示："
   ]
  },
  {
   "cell_type": "code",
   "execution_count": 2,
   "metadata": {},
   "outputs": [
    {
     "name": "stdout",
     "output_type": "stream",
     "text": [
      "[[0.77777782 0.22222223]\n",
      " [0.77777782 0.22222223]]\n"
     ]
    }
   ],
   "source": [
    "P = np.array([[0.8, 0.2],\n",
    "              [0.7, 0.3]])\n",
    "\n",
    "for _ in range(30):\n",
    "    P = np.dot(P, P)\n",
    "\n",
    "print(P)"
   ]
  },
  {
   "attachments": {},
   "cell_type": "markdown",
   "metadata": {},
   "source": [
    "我们可以发现当$n\\rightarrow\\infty \\, , P \\rightarrow C$,并且稳定值与初始状态无关。\n",
    "\n",
    "Eg2. 健康和疾病状态同上，$X_n=1$~ 健康, $X_n = 2$ ~ 疾病,死亡为第三种状态，记为$X_n = 3$，我们可以定义一个新的矩阵："
   ]
  },
  {
   "cell_type": "code",
   "execution_count": 3,
   "metadata": {},
   "outputs": [
    {
     "name": "stdout",
     "output_type": "stream",
     "text": [
      "[[0. 0. 1.]\n",
      " [0. 0. 1.]\n",
      " [0. 0. 1.]]\n"
     ]
    }
   ],
   "source": [
    "P = np.array([[0.8, 0.18, 0.02],\n",
    "              [0.65, 0.25, 0.1],\n",
    "              [0, 0, 1]])\n",
    "\n",
    "for _ in range(30):\n",
    "    P = np.dot(P, P)\n",
    "\n",
    "print(P)"
   ]
  },
  {
   "attachments": {},
   "cell_type": "markdown",
   "metadata": {},
   "source": [
    "### 2. 钢琴销售的存储策略\n",
    "钢琴销售量很小，商店的库存量不大以免积压资金. 一家商店根据经验估计，平均每周的钢琴需求为1架\n",
    "存贮策略：每周末检查库存量，仅当库存量为零时，才订购3架供下周销售；否则，不订购\n",
    "\n",
    "- 估计在这种策略下失去销售机会的可能性有多大?\n",
    "- 以及每周的平均销售量是多少\n",
    "\n",
    "动态过程中每周销售量不同，失去销售机会（需求超过库存）的概率不同.可按稳态情况（时间充分长以后）计算失去销售机会的概率和每周的平均销售量。"
   ]
  },
  {
   "cell_type": "code",
   "execution_count": 4,
   "metadata": {},
   "outputs": [
    {
     "name": "stdout",
     "output_type": "stream",
     "text": [
      "[[0.28483488 0.26318077 0.45198436]\n",
      " [0.28483488 0.26318077 0.45198436]\n",
      " [0.28483488 0.26318077 0.45198436]]\n"
     ]
    }
   ],
   "source": [
    "P = np.array([[0.368, 0, 0.632],\n",
    "              [0.368, 0.368, 0.264],\n",
    "              [0.184, 0.368, 0.448]])\n",
    "for _ in range(30):\n",
    "    P = np.dot(P, P)\n",
    "\n",
    "print(P)"
   ]
  },
  {
   "attachments": {},
   "cell_type": "markdown",
   "metadata": {},
   "source": [
    "从上述分析中，可以得到稳态分布是$[0.2848, 0.2632, 0.4520]$,进而可以如下的计算出来失去销售的机会的概率以及每周的平均销售量:\n"
   ]
  },
  {
   "cell_type": "code",
   "execution_count": 5,
   "metadata": {},
   "outputs": [
    {
     "name": "stdout",
     "output_type": "stream",
     "text": [
      "失去销售机会的可能性为10.48%\n",
      "每周的平均销售量为 0.90\n"
     ]
    }
   ],
   "source": [
    "pai = P[0]\n",
    "D = np.array([0.368, 0.368, 0.184, 0.061, 0.019])\n",
    "total_pro = 0\n",
    "for k in range(1, 4):\n",
    "    total_pro += np.sum(D[k + 1:]) * pai[k - 1]\n",
    "    \n",
    "print(\"失去销售机会的可能性为%.2f%%\" %(total_pro * 100))\n",
    "\n",
    "total_sell = 0\n",
    "for k in range(1, 4):\n",
    "    total_sell += np.sum(D[0:k + 1]) * pai[k - 1]\n",
    "\n",
    "print(\"每周的平均销售量为 %.2f\" %(total_sell))"
   ]
  }
 ],
 "metadata": {
  "kernelspec": {
   "display_name": "Python 3",
   "language": "python",
   "name": "python3"
  },
  "language_info": {
   "codemirror_mode": {
    "name": "ipython",
    "version": 3
   },
   "file_extension": ".py",
   "mimetype": "text/x-python",
   "name": "python",
   "nbconvert_exporter": "python",
   "pygments_lexer": "ipython3",
   "version": "3.11.2"
  },
  "orig_nbformat": 4
 },
 "nbformat": 4,
 "nbformat_minor": 2
}
