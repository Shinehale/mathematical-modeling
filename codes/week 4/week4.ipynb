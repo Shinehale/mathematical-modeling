{
 "cells": [
  {
   "attachments": {},
   "cell_type": "markdown",
   "metadata": {},
   "source": [
    "# 数据处理与应用\n",
    "\n",
    "**常用数据统计分析建模方法**\n",
    "- 描述性统计量和统计图\n",
    "- 参数估计\n",
    "- 假设检验\n",
    "- 回归分析\n",
    "- 聚类分析\n",
    "\n",
    "## 描述性统计量与统计图\n",
    "- 描述性统计量\n",
    "  - 均值、方差、标准差、最大值、最小值、极差、中位数、分位数、众数、变异系数、中心矩、原点矩、偏度、峰度、协方差、相关系数\n",
    "- 统计图\n",
    "  - 箱线图、直方图、经验分布函数图、正态概率图、P-P图、Q-Q图\n",
    "\n",
    "首先，导入需要的`python`库，如下所示："
   ]
  },
  {
   "cell_type": "code",
   "execution_count": 1,
   "metadata": {},
   "outputs": [],
   "source": [
    "import numpy as np\n",
    "import pandas as pd\n",
    "import math"
   ]
  },
  {
   "attachments": {},
   "cell_type": "markdown",
   "metadata": {},
   "source": [
    "### 练习1\n",
    "- 按班级分别计算身高、体重、肺活量的均值、标准差、最大最小值等\n",
    "- 提取身高、体重、肺活量、耐力项分数、柔韧和力量分数、速度和灵巧分数，计算相关系数矩阵\n",
    "- 统计一个数组中各个数字（元素）出现的频数、频率\n",
    "\n",
    "具体内容见附件：体测成绩.xls,"
   ]
  },
  {
   "cell_type": "code",
   "execution_count": 2,
   "metadata": {},
   "outputs": [
    {
     "name": "stdout",
     "output_type": "stream",
     "text": [
      "Class: 90401\n",
      "Height -- Mean: 169.51052631578946  Std: 7.700136704186357  Max: 181.8  Min: 158.0\n",
      "Weight -- Mean: 58.73157894736841  Std: 11.719170080190024  Max: 93.5  Min: 44.7\n",
      "Lung capacity -- Mean: 3769.3684210526317  Std: 1352.975125439666  Max: 7359  Min: 1609\n",
      "\n",
      "Class: 90402\n",
      "Height -- Mean: 164.94444444444446  Std: 9.367416758745502  Max: 185.7  Min: 149.2\n",
      "Weight -- Mean: 55.32222222222222  Std: 6.818793713877718  Max: 68.6  Min: 42.0\n",
      "Lung capacity -- Mean: 3545.1666666666665  Std: 752.8684167510127  Max: 4921  Min: 2479\n",
      "\n"
     ]
    }
   ],
   "source": [
    "dataE1_1 = pd.read_excel('./体测成绩.xls', sheet_name ='Sheet1')\n",
    "students_1 = pd.DataFrame({'class': dataE1_1['班级'],\n",
    "                           'height': dataE1_1['身高'],\n",
    "                           'weight': dataE1_1['体重'],\n",
    "                           'lung_capacity': dataE1_1['肺活量'],\n",
    "                           'endurance': dataE1_1['耐力类项目分数'],\n",
    "                           'flexibility':dataE1_1['柔韧及力量类项目分数'],\n",
    "                           'speed': dataE1_1['速度及灵巧类项目分数']})\n",
    "grouped_1 = students_1.groupby('class')\n",
    "for name, group in grouped_1:\n",
    "    print('Class:', name)\n",
    "    print('Height -- Mean:', group['height'].mean(), \n",
    "          ' Std:', group['height'].std(), \n",
    "          ' Max:', group['height'].max(), \n",
    "          ' Min:', group['height'].min())\n",
    "    print('Weight -- Mean:', group['weight'].mean(), \n",
    "          ' Std:', group['weight'].std(), \n",
    "          ' Max:', group['weight'].max(), \n",
    "          ' Min:', group['weight'].min())\n",
    "    print('Lung capacity -- Mean:', group['lung_capacity'].mean(), \n",
    "          ' Std:', group['lung_capacity'].std(), \n",
    "          ' Max:', group['lung_capacity'].max(), \n",
    "          ' Min:', group['lung_capacity'].min())\n",
    "    print()"
   ]
  },
  {
   "cell_type": "code",
   "execution_count": 3,
   "metadata": {},
   "outputs": [
    {
     "name": "stdout",
     "output_type": "stream",
     "text": [
      "                 height    weight  lung_capacity  endurance  flexibility   \n",
      "height         1.000000  0.630507       0.460875  -0.287584    -0.514203  \\\n",
      "weight         0.630507  1.000000       0.613563  -0.176182    -0.507716   \n",
      "lung_capacity  0.460875  0.613563       1.000000  -0.488593    -0.343174   \n",
      "endurance     -0.287584 -0.176182      -0.488593   1.000000     0.292965   \n",
      "flexibility   -0.514203 -0.507716      -0.343174   0.292965     1.000000   \n",
      "speed         -0.291847 -0.072920      -0.069733   0.309928     0.309234   \n",
      "\n",
      "                  speed  \n",
      "height        -0.291847  \n",
      "weight        -0.072920  \n",
      "lung_capacity -0.069733  \n",
      "endurance      0.309928  \n",
      "flexibility    0.309234  \n",
      "speed          1.000000  \n"
     ]
    }
   ],
   "source": [
    "selected_cols = ['height', 'weight', 'lung_capacity', 'endurance', 'flexibility', 'speed']\n",
    "corr_matrix = students_1[selected_cols].corr()\n",
    "print(corr_matrix)"
   ]
  },
  {
   "cell_type": "code",
   "execution_count": 4,
   "metadata": {},
   "outputs": [
    {
     "name": "stdout",
     "output_type": "stream",
     "text": [
      "Value Count Percent\n",
      "正常体重 14 37.84%\n",
      "肥胖 3 8.11%\n",
      "营养不良 5 13.51%\n",
      "超重 1 2.7%\n",
      "较低体重 14 37.84%\n"
     ]
    }
   ],
   "source": [
    "students_2 = pd.DataFrame({'grades': dataE1_1['身高体重等级']})\n",
    "tot_student = len(students_2.values[:,0])\n",
    "grouped_2 = students_2.groupby('grades')\n",
    "print(\"Value\", \"Count\", \"Percent\")\n",
    "for name, group in grouped_2:\n",
    "    percent = 1.0 * len(group) / tot_student * 100 \n",
    "    print(name, len(group), \"{0}%\".format(round(percent, 2)))"
   ]
  },
  {
   "attachments": {},
   "cell_type": "markdown",
   "metadata": {},
   "source": [
    "## 参数估计\n",
    "\n",
    "无论总体 X 的分布函数 $F(x;\\theta_1, \\theta_2, \\cdots, \\theta_k)$ 的类型已知或未知，我们总是需要去估计某些未知参数或数字特征，这就是参数估计问题。即参数估计就是从样本$(X_1, X_2, \\cdots, X_n)$出发，构造一些统计量$\\theta_i$ ，其中$\\theta_i(X_1, X_2, \\cdots, X_n) (i = 1, 2, \\cdots, k)$去估计总体X中的某些参数（或数字特征）$\\theta_i(i = 1, 2, \\cdots, k)$ 。 这样的统计量称为估计量\n",
    "\n",
    "一般有两种方法完成想要的参数估计\n",
    "\n",
    "1. 点估计：构造$(X_1, X_2, \\cdots, X_n)$ 的函数 $\\theta_i(X_1, X_2, \\cdots, X_n) (i = 1, 2, \\cdots, k)$ 作为参数$\\theta_i$的点估计量，称统计量 $\\theta_i$为总体X参数$\\theta_i$的点估计量\n",
    "2. 区间估计：构造两个函数  $\\theta_{i1}(X_1, X_2, \\cdots, X_n)$和 $\\theta_{i2}(X_1, X_2, \\cdots, X_n)$\n",
    "做成区间，把这$(\\theta_{i1}, \\theta_{i2})$ 作为参数$\\theta_i$的区间估计.\n",
    "\n",
    "点估计的做法有两种，矩估计法和极大似然估计法\n",
    "\n",
    "首先导入我们需要的库以完成对应的题目要求\n"
   ]
  },
  {
   "cell_type": "code",
   "execution_count": 5,
   "metadata": {},
   "outputs": [],
   "source": [
    "import scipy.stats as st\n",
    "import statsmodels.stats.weightstats as sw"
   ]
  },
  {
   "attachments": {},
   "cell_type": "markdown",
   "metadata": {},
   "source": [
    "### 练习2.1：\n",
    "某工厂生产的滚珠中随机抽取10个，测得滚珠的直径如下：\n",
    "\n",
    "`15.14 14.81 15.11 15.26 15.08 15.17 15.12 14.95 15.05 14.87`\n",
    "\n",
    " 若直径服从正态分布，求 的最大似然估计和置信水平为90%的置信区间\n",
    "### 解答\n",
    " 根据题意，滚珠直径服从正态分布，我们需要对其均值进行最大似然估计和置信区间估计。假设滚珠直径的真实均值为 $\\mu$，方差为 $\\sigma^2$，那么样本的似然函数为：\n",
    "\n",
    "$L(\\mu, \\sigma^2) = \\prod_{i=1}^{n} \\frac{1}{\\sqrt{2\\pi\\sigma^2}} \\exp \\left(-\\frac{(x_i - \\mu)^2}{2\\sigma^2}\\right)$\n",
    "\n",
    "对上式取对数，并对 $\\sigma^2$ 求偏导，可以得到 $\\mu$ 的最大似然估计为样本均值 $\\bar{x}$，即：\n",
    "\n",
    "$\\hat{\\mu} = \\bar{x} = \\frac{1}{n} \\sum_{i=1}^{n} x_i$\n",
    "\n",
    "接下来进行置信区间估计，考虑到样本量较小（$n=10$），我们可以使用 t 分布来构造置信区间。由于样本方差不是一个无偏估计，因此我们需要对样本方差进行校正，使用如下公式：\n",
    "\n",
    "$s^2 = \\frac{1}{n-1} \\sum_{i=1}^{n} (x_i - \\bar{x})^2$\n",
    "\n",
    "那么我们可以使用下式构造 $\\mu$ 的 90% 置信区间：\n",
    "\n",
    "$\\bar{x} - t_{n-1,\\alpha/2} \\frac{s}{\\sqrt{n}} \\leq \\mu \\leq \\bar{x} + t_{n-1,\\alpha/2} \\frac{s}{\\sqrt{n}}$\n",
    "\n",
    "其中 $t_{n-1,\\alpha/2}$ 表示自由度为 $n-1$ 的 t 分布上分位点为 $\\alpha/2$。"
   ]
  },
  {
   "cell_type": "code",
   "execution_count": 6,
   "metadata": {},
   "outputs": [
    {
     "ename": "NameError",
     "evalue": "name 't' is not defined",
     "output_type": "error",
     "traceback": [
      "\u001b[1;31m---------------------------------------------------------------------------\u001b[0m",
      "\u001b[1;31mNameError\u001b[0m                                 Traceback (most recent call last)",
      "Cell \u001b[1;32mIn[6], line 15\u001b[0m\n\u001b[0;32m     13\u001b[0m \u001b[39m# 置信区间估计\u001b[39;00m\n\u001b[0;32m     14\u001b[0m alpha \u001b[39m=\u001b[39m \u001b[39m0.1\u001b[39m\n\u001b[1;32m---> 15\u001b[0m t_value \u001b[39m=\u001b[39m t\u001b[39m.\u001b[39mppf(\u001b[39m1\u001b[39m \u001b[39m-\u001b[39m alpha\u001b[39m/\u001b[39m\u001b[39m2\u001b[39m, df\u001b[39m=\u001b[39m\u001b[39mlen\u001b[39m(x)\u001b[39m-\u001b[39m\u001b[39m1\u001b[39m)\n\u001b[0;32m     16\u001b[0m mu_ci_low \u001b[39m=\u001b[39m x_mean \u001b[39m-\u001b[39m t_value \u001b[39m*\u001b[39m np\u001b[39m.\u001b[39msqrt(s2\u001b[39m/\u001b[39m\u001b[39mlen\u001b[39m(x))\n\u001b[0;32m     17\u001b[0m mu_ci_high \u001b[39m=\u001b[39m x_mean \u001b[39m+\u001b[39m t_value \u001b[39m*\u001b[39m np\u001b[39m.\u001b[39msqrt(s2\u001b[39m/\u001b[39m\u001b[39mlen\u001b[39m(x))\n",
      "\u001b[1;31mNameError\u001b[0m: name 't' is not defined"
     ]
    }
   ],
   "source": [
    "# 样本数据\n",
    "x = np.array([15.14, 14.81, 15.11, 15.26, 15.08, 15.17, 15.12, 14.95, 15.05, 14.87])\n",
    "\n",
    "# 样本均值\n",
    "x_mean = np.mean(x)\n",
    "\n",
    "# 样本方差\n",
    "s2 = np.sum((x - x_mean) ** 2) / (len(x) - 1)\n",
    "\n",
    "# 最大似然估计\n",
    "mu_mle = x_mean\n",
    "\n",
    "# 置信区间估计\n",
    "alpha = 0.1\n",
    "t_value = t.ppf(1 - alpha/2, df=len(x)-1)\n",
    "mu_ci_low = x_mean - t_value * np.sqrt(s2/len(x))\n",
    "mu_ci_high = x_mean + t_value * np.sqrt(s2/len(x))\n",
    "\n",
    "print('最大似然估计的均值为:', mu_mle)\n",
    "print(f'{1-alpha:.0%}的置信区间为: [{mu_ci_low:.4f}, {mu_ci_high:.4f}]')\n"
   ]
  },
  {
   "attachments": {},
   "cell_type": "markdown",
   "metadata": {},
   "source": [
    "## 假设检验\n",
    "\n",
    "\n",
    "### 练习3.1 z检验\n",
    "\n",
    "某切割正常工作时，切割的金属棒长度服从正态分布$N(100,4)$.从该\n",
    "切割机切割的一批金属棒随机抽取15根，测得长度如下：\n",
    "\n",
    "`97 102 105 112 99 103 102 94 100 95 105 98 102 100 103`\n",
    "\n",
    "假设总体方差不变，取显著性水平$\\alpha = 0.05$ 。检验该切割机工作是否正常。\n",
    "\n",
    "- 假设$H_0:\\mu = \\mu_0 = 100$ 正常  $H_1: \\mu \\neq \\mu_0$ 异常"
   ]
  },
  {
   "cell_type": "code",
   "execution_count": null,
   "metadata": {},
   "outputs": [
    {
     "name": "stdout",
     "output_type": "stream",
     "text": [
      "we can acknowledge the prediction:\n",
      "The machine works normally\n"
     ]
    }
   ],
   "source": [
    "dataEx3_1 = np.array([97, 102, 105, 112, 99, \n",
    "                      103, 102, 94, 100, 95, \n",
    "                      105, 98, 102, 100, 103])\n",
    "\n",
    "mu0 = 100\n",
    "sigma = 2\n",
    "Alpha = 0.05\n",
    "\n",
    "t, p = sw.ztest(dataEx3_1, value=mu0)\n",
    "if p > Alpha:\n",
    "    print('we can acknowledge the prediction:')\n",
    "else:\n",
    "    print('we can not acknowledge the prediction:')\n",
    "    \n",
    "print('The machine works normally')"
   ]
  },
  {
   "attachments": {},
   "cell_type": "markdown",
   "metadata": {},
   "source": [
    "### 练习 3.2 t检验\n",
    "化肥厂用自动包装机包装化肥，测得某日9包化肥质量(单位kg)为：\n",
    "\n",
    "`49.4 50.5 50.7 51.7 49.8 47.9 49.2 51.4 48.9`\n",
    "\n",
    "设每包化肥质量服从正态分布，是否可以认为每包化肥平均质量为50kg.\n",
    "- 假设$H_0:\\mu = \\mu_0 = 50$ 正常  $H_1: \\mu \\neq \\mu_0$ 异常"
   ]
  },
  {
   "cell_type": "code",
   "execution_count": null,
   "metadata": {},
   "outputs": [
    {
     "name": "stdout",
     "output_type": "stream",
     "text": [
      "we can acknowledge the prediction:\n"
     ]
    }
   ],
   "source": [
    "dataEx3_2 = np.array([49.4, 50.5, 50.7,\n",
    "                      51.7, 49.8, 47.9, \n",
    "                      49.2, 51.4, 48.9])\n",
    "mu0 = 50\n",
    "t, p = st.ttest_1samp(dataEx3_2, mu0)\n",
    "if p > 0.05:\n",
    "    print('we can acknowledge the prediction:')\n",
    "else:\n",
    "    print('we can not acknowledge the prediction:')\n",
    "    "
   ]
  },
  {
   "attachments": {},
   "cell_type": "markdown",
   "metadata": {},
   "source": [
    "其余检验利用matlab实现如下:\n",
    "\n",
    "```matlab\n",
    "%% ex6.3-3 总体均值未知时的单个正态总体方差的检验\n",
    "x = [49.4  50.5  50.7  51.7  49.8  47.9  49.2  51.4  48.9];\n",
    "var0 = 1.5;\n",
    "alpha = 0.05;\n",
    "tail = 'both';\n",
    "[h,p,varci,stats] = vartest(x,var0,alpha,tail)\n",
    "\n",
    "%% ex6.3-4 总体标准差未知时的两个正态总体均值的比较检验（独立样本）\n",
    "x = [20.1,  20.0,  19.3,  20.6,  20.2,  19.9,  20.0,  19.9,  19.1,  19.9];\n",
    "y = [18.6,  19.1,  20.0,  20.0,  20.0,  19.7,  19.9,  19.6,  20.2];\n",
    "alpha = 0.05;\n",
    "tail = 'both';\n",
    "vartype = 'equal';\n",
    "[h,p,muci,stats] = ttest2(x,y,alpha,tail,vartype)\n",
    "\n",
    "%% ex6.3-4x 总体标准差未知时的两个正态总体均值的比较检验（配对样本）\n",
    "% x = [80.3,68.6,72.2,71.5,72.3,70.1,74.6,73.0,58.7,78.6,85.6,78.0];\n",
    "% y = [74.0,71.2,66.3,65.3,66.0,61.6,68.8,72.6,65.7,72.6,77.1,71.5];\n",
    "% Alpha = 0.05;\n",
    "% tail = 'both';\n",
    "% [h,p,muci,stats] = ttest(x,y,Alpha,tail)\n",
    "\n",
    "%% ex6.3-5 总体均值未知时的两个正态总体方差的比较检验\n",
    "x = [20.1,  20.0,  19.3,  20.6,  20.2,  19.9,  20.0,  19.9,  19.1,  19.9];\n",
    "y = [18.6,  19.1,  20.0,  20.0,  20.0,  19.7,  19.9,  19.6,  20.2];\n",
    "alpha = 0.05;\n",
    "tail = 'both';\n",
    "[h,p,varci,stats] = vartest2(x,y,alpha,tail)\n",
    "```"
   ]
  }
 ],
 "metadata": {
  "kernelspec": {
   "display_name": "Python 3",
   "language": "python",
   "name": "python3"
  },
  "language_info": {
   "codemirror_mode": {
    "name": "ipython",
    "version": 3
   },
   "file_extension": ".py",
   "mimetype": "text/x-python",
   "name": "python",
   "nbconvert_exporter": "python",
   "pygments_lexer": "ipython3",
   "version": "3.11.2"
  },
  "orig_nbformat": 4
 },
 "nbformat": 4,
 "nbformat_minor": 2
}
