{
 "cells": [
  {
   "attachments": {},
   "cell_type": "markdown",
   "metadata": {},
   "source": [
    "# HW 3\n",
    "By ShineHale(yunsong Yang) U202115980\n",
    "\n",
    "Before we solve the problems, we need to import the related library, like `numpy`, `cmath`, `pulp`(which is the most important)\n",
    "\n",
    "**Introduction to pulp**\n",
    "    \n",
    "`pulp` lib is a open-source library which has a powerful capability for solving the linear programming\n",
    "    "
   ]
  },
  {
   "cell_type": "code",
   "execution_count": 1,
   "metadata": {},
   "outputs": [],
   "source": [
    "import numpy as np\n",
    "import matplotlib.pyplot as plt\n",
    "import pulp\n",
    "import math"
   ]
  },
  {
   "attachments": {},
   "cell_type": "markdown",
   "metadata": {},
   "source": [
    "### T1"
   ]
  },
  {
   "attachments": {},
   "cell_type": "markdown",
   "metadata": {},
   "source": [
    "#### Q1: how to allocate the amount of the water, the company can earn more profits\n",
    "From the background of the question, we can find when the Water Diversion Management Fee is smaller, the profit is bigger.\n",
    "we can easily find the final target formula we wanna solve\n",
    "$$\n",
    "    max \\, Z = 290x_{11} + 320x_{12} + 230x_{13} + 280x_{14} + 310x_{21} + 320x_{22} \\\\\n",
    "        + 260 x_{23} + 300x_{24} + 260x_{31} + 250x_{32} + 220x_{33}\n",
    "$$\n",
    "and the constrains are as follows\n",
    "$$\n",
    "    x_{11} + x_{12} + x_{13} + x_{14} <=50 \\\\\n",
    "    x_{21} + x_{22} + x_{23} + x_{24} <=60 \\\\\n",
    "    x_{31} + x_{32} + x_{33} <= 50  \\\\\n",
    "    30 <= x_{11} + x_{21} + x_{31} <= 80 \\\\\n",
    "    70 <= x_{12} + x_{22} + x_{32} <= 140 \\\\\n",
    "    10 <= x_{13} + x_{23} + x_{33} <= 30 \\\\\n",
    "    10 <= x_{14} + x_{24} <= 50 \\\\\n",
    "    x_{34} = 0\n",
    "$$\n",
    "design the codes for solving as follow:\n"
   ]
  },
  {
   "cell_type": "code",
   "execution_count": 2,
   "metadata": {},
   "outputs": [
    {
     "name": "stdout",
     "output_type": "stream",
     "text": [
      "Results:\n",
      "x_1_1 = 0.0\n",
      "x_1_2 = 50.0\n",
      "x_1_3 = 0.0\n",
      "x_1_4 = 0.0\n",
      "x_2_1 = 0.0\n",
      "x_2_2 = 50.0\n",
      "x_2_3 = 0.0\n",
      "x_2_4 = 10.0\n",
      "x_3_1 = 40.0\n",
      "x_3_2 = 0.0\n",
      "x_3_3 = 10.0\n",
      "x_3_4 = 0.0\n",
      "Total Profits:  47600.0\n"
     ]
    }
   ],
   "source": [
    "prob1 = pulp.LpProblem('T1_Q1', pulp.LpMaximize)\n",
    "\n",
    "x1 = [[pulp.LpVariable(f'x_{i + 1}_{j + 1}', upBound = 100, lowBound = 0, cat = 'Continuous') for j in range(4)] for i in range(3)]\n",
    "incomes = np.array([[450 for j in range(4)] for i in range(3)])\n",
    "price = np.array([[160, 130, 220, 170],\n",
    "         [140, 130, 190, 150],\n",
    "         [190, 200, 230, 0]])\n",
    "profits = incomes - price\n",
    "\n",
    "#define the function \n",
    "tmp = x1[0][0] * profits[0][0] \n",
    "for i in range(3):\n",
    "    for j in range(4):\n",
    "        if i == 0 and j == 0:\n",
    "            continue\n",
    "        tmp += x1[i][j] * profits[i][j]\n",
    "prob1 += tmp\n",
    "\n",
    "\n",
    "#define the constrains\n",
    "prob1 += x1[0][0] + x1[0][1] + x1[0][2] + x1[0][3] <= 50\n",
    "prob1 += x1[1][0] + x1[1][1] + x1[1][2] + x1[1][3] <= 60\n",
    "prob1 += x1[2][0] + x1[2][1] + x1[2][2] <= 50\n",
    "prob1 += x1[0][0] + x1[1][0] + x1[2][0] >= 30  \n",
    "prob1 += x1[0][0] + x1[1][0] + x1[2][0] <= 80\n",
    "prob1 += x1[0][1] + x1[1][1] + x1[2][1] >= 70\n",
    "prob1 += x1[0][1] + x1[1][1] + x1[2][1] <= 140\n",
    "prob1 += x1[0][2] + x1[1][2] + x1[2][2] >= 10\n",
    "prob1 += x1[0][2] + x1[1][2] + x1[2][2] <= 30\n",
    "prob1 += x1[0][3] + x1[1][3] >= 10\n",
    "prob1 += x1[0][3] + x1[1][3] <= 50\n",
    "prob1 += x1[2][3] == 0\n",
    "\n",
    "prob1.solve()\n",
    "print(\"Results:\")\n",
    "for variable in prob1.variables():\n",
    "    print(variable.name, \"=\", variable.varValue)\n",
    "print(\"Total Profits: \", pulp.value(prob1.objective))\n"
   ]
  },
  {
   "attachments": {},
   "cell_type": "markdown",
   "metadata": {},
   "source": [
    "From the outcome above, we can have the conclusion, only when all the waters are transported to the neighbours can the profits be the largest\n",
    "\n",
    "#### Q2: when the supply of water has been double, how much the profit can be increased?"
   ]
  },
  {
   "cell_type": "code",
   "execution_count": 3,
   "metadata": {},
   "outputs": [
    {
     "name": "stdout",
     "output_type": "stream",
     "text": [
      "Results:\n",
      "x2_1_1 = 0.0\n",
      "x2_1_2 = 100.0\n",
      "x2_1_3 = 0.0\n",
      "x2_1_4 = 0.0\n",
      "x2_2_1 = 30.0\n",
      "x2_2_2 = 40.0\n",
      "x2_2_3 = 0.0\n",
      "x2_2_4 = 50.0\n",
      "x2_3_1 = 50.0\n",
      "x2_3_2 = 0.0\n",
      "x2_3_3 = 30.0\n",
      "x2_3_4 = 0.0\n",
      "Total Profits:  88700.0\n",
      "Total increased profits is 41100.0\n"
     ]
    }
   ],
   "source": [
    "prob2 = pulp.LpProblem('T1_Q1', pulp.LpMaximize)\n",
    "\n",
    "x2 = [[pulp.LpVariable(f'x2_{i + 1}_{j + 1}', upBound = 100, lowBound = 0, cat = 'Continuous') for j in range(4)] for i in range(3)]\n",
    "incomes = np.array([[450 for j in range(4)] for i in range(3)])\n",
    "price = np.array([[160, 130, 220, 170],\n",
    "         [140, 130, 190, 150],\n",
    "         [190, 200, 230, 0]])\n",
    "profits = incomes - price\n",
    "\n",
    "#define the function \n",
    "tmp = x2[0][0] * profits[0][0] \n",
    "for i in range(3):\n",
    "    for j in range(4):\n",
    "        if i == 0 and j == 0:\n",
    "            continue\n",
    "        tmp += x2[i][j] * profits[i][j]\n",
    "prob2 += tmp\n",
    "\n",
    "\n",
    "#define the constrains\n",
    "prob2 += x2[0][0] + x2[0][1] + x2[0][2] + x2[0][3] <= 100\n",
    "prob2 += x2[1][0] + x2[1][1] + x2[1][2] + x2[1][3] <= 120\n",
    "prob2 += x2[2][0] + x2[2][1] + x2[2][2] <= 100\n",
    "prob2 += x2[0][0] + x2[1][0] + x2[2][0] >= 30  \n",
    "prob2 += x2[0][0] + x2[1][0] + x2[2][0] <= 80\n",
    "prob2 += x2[0][1] + x2[1][1] + x2[2][1] >= 70\n",
    "prob2 += x2[0][1] + x2[1][1] + x2[2][1] <= 140\n",
    "prob2 += x2[0][2] + x2[1][2] + x2[2][2] >= 10\n",
    "prob2 += x2[0][2] + x2[1][2] + x2[2][2] <= 30\n",
    "prob2 += x2[0][3] + x2[1][3] >= 10\n",
    "prob2 += x2[0][3] + x2[1][3] <= 50\n",
    "prob2 += x2[2][3] == 0\n",
    "\n",
    "prob2.solve()\n",
    "print(\"Results:\")\n",
    "for variable in prob2.variables():\n",
    "    print(variable.name, \"=\", variable.varValue)\n",
    "print(\"Total Profits: \", pulp.value(prob2.objective))\n",
    "print(\"Total increased profits is {0}\".format(pulp.value(prob2.objective) - pulp.value(prob1.objective)))"
   ]
  },
  {
   "attachments": {},
   "cell_type": "markdown",
   "metadata": {},
   "source": [
    "### T2\n",
    "#### Q:How should the procurement and processing of crude oil be arranged?\n",
    "After reading the question, we have the assumption:\n",
    "- Let $x1, x2, x3$ as the amount of buying the oil A in the price 10, 8, 6 repectively\n",
    "- Let $x_{i,j} (i = 1,2; j = 1,2)$ as make $x_{i,j}$ oil from class $i$ to class $j$\n",
    "\n",
    "the target we can derive is:\n",
    "$$max \\,Z = (x_{1,1} + x_{2,1}) * 4.8 + (x_{1,2} + x_{2,2}) * 5.6 - 10x_1 - 8x_2 - 6x_3$$\n",
    "\n",
    "and we can have the basic constrains:\n",
    "$$\n",
    "    x_{1,1} + x_{1,2} <= 500 + x_1 + x_2 + x_3 \\\\\n",
    "    x_{2,1} + x_{2,2} <= 1000  \\\\\n",
    "    \\frac{x_{1,1}}{x_{1,1} + x_{2,1}} >= 0.5 \\\\\n",
    "    \\frac{x_{1,2}}{x_{1,2} + x_{2,2}} >= 0.6 \\\\\n",
    "    (x_1 - 500) x_2 == 0 \\\\\n",
    "    (x_2 - 500) x_3 == 0 \\\\\n",
    "    x_1 + x_2 + x_3 <= 1500\n",
    "$$\n",
    "since they are non-linear model, we need to introduce another variable for converting the problem to linear question, we can describe the function as follow:\n",
    "\n",
    "$$\n",
    "    f(x) = \\left\\{\n",
    "        \\begin{matrix}\n",
    "            10x, \\quad 0\\le x\\le 500 \\\\\n",
    "            8x + 1000, \\quad 500 \\le x \\le 1000 \\\\ \n",
    "            6x + 3000, \\quad 1000 \\le x \\le 1500\\\\\n",
    "        \\end{matrix} \n",
    "        \\right.\n",
    "        \n",
    "$$\n",
    "so we can introduce the 0-1variables $y_1, y_2, y_3$ for indicating the conditions $0\\le x\\le 500 , 500 \\le x \\le 1000 ,1000 \\le x \\le 1500 $, so we have the new constrains for replacing the non-linear constrains.\n",
    "$$\n",
    "    500y_2 \\le x1 \\le 500y_1 \\\\\n",
    "    500y_3 \\le x2 \\le 500y_2 \\\\\n",
    "    x3 \\le 500y_3\n",
    "$$\n",
    "and the fraction constrains can be converted as follow:\n",
    "$$\n",
    "    x_{2, 1} \\le x_{1,1} \\\\\n",
    "    3x_{2,2} \\le 2x_{1,2} \\\\\n",
    "$$\n",
    "from all the above, we can have the codes as follow:\n"
   ]
  },
  {
   "cell_type": "code",
   "execution_count": 4,
   "metadata": {},
   "outputs": [
    {
     "name": "stdout",
     "output_type": "stream",
     "text": [
      "Result:\n",
      "X_1_1 = 0.0\n",
      "X_1_2 = 0.0\n",
      "X_2_1 = 1500.0\n",
      "X_2_2 = 1000.0\n",
      "x_1 = 500.0\n",
      "x_2 = 500.0\n",
      "x_3 = 0.0\n",
      "y_1 = 1.0\n",
      "y_2 = 1.0\n",
      "y_3 = 1.0\n",
      "Total Profits:  5000.0\n"
     ]
    }
   ],
   "source": [
    "prob3 = pulp.LpProblem('T2', pulp.LpMaximize)\n",
    "\n",
    "x_m3_0 = [[pulp.LpVariable(f'X_{i + 1}_{j + 1}', lowBound = 0, upBound = 10000, cat = 'Continuous') for i in range(2)] for j in range(2)]\n",
    "x_m3_1 = [pulp.LpVariable(f'x_{i + 1}', upBound = 500, lowBound = 0, cat = 'Continuous' ) for i in range(3)]\n",
    "y_m3 = [pulp.LpVariable(f'y_{i + 1}', lowBound = 0, upBound = 1, cat = 'Integer') for i in range(3)]\n",
    "\n",
    "q3 = (x_m3_0[0][0] + x_m3_0[1][0]) * 4.8 + (x_m3_0[0][1] + x_m3_0[1][1]) * 5.6 - 10 * x_m3_1[0] - 8 * x_m3_1[1] - 6 * x_m3_1[2]\n",
    "prob3 += q3\n",
    "\n",
    "#define the constrains\n",
    "prob3 += x_m3_0[0][0] + x_m3_0[0][1] == 500 + x_m3_1[0] + x_m3_1[1] + x_m3_1[2]\n",
    "prob3 += x_m3_0[1][0] + x_m3_0[1][1] <= 1000\n",
    "\n",
    "prob3 += 500 * y_m3[1] <= x_m3_1[0]\n",
    "prob3 += x_m3_1[0] <= 500 * y_m3[0]\n",
    "\n",
    "prob3 += 500 * y_m3[2] <= x_m3_1[1]\n",
    "prob3 += x_m3_1[1] <= 500 * y_m3[1]\n",
    "\n",
    "prob3 += x_m3_1[2] <= 500 * y_m3[2]\n",
    "\n",
    "prob3 += x_m3_0[1][0] <= x_m3_0[0][0]\n",
    "prob3 += 3 * x_m3_0[1][1] <= 2 * x_m3_0[0][1]\n",
    "\n",
    "prob3.solve()\n",
    "print('Result:')\n",
    "for variable in prob3.variables():\n",
    "    print(variable.name, \"=\", variable.varValue)\n",
    "print(\"Total Profits: \", pulp.value(prob3.objective))"
   ]
  },
  {
   "attachments": {},
   "cell_type": "markdown",
   "metadata": {},
   "source": [
    "From the value, we can easily find when we buy 1000 kg oil A and then put all the 1500kg oil A and 1000kg oil B to make the second class oil can have the largest profits, which can generate about 2500kg the second oil.\n",
    "\n",
    "The profits are 5000k dollars."
   ]
  },
  {
   "attachments": {},
   "cell_type": "markdown",
   "metadata": {},
   "source": [
    "### T3\n",
    "#### Q:How to arrange weekly production?\n",
    "First of all, we should make analysis of the question, we can have the assumptions:\n",
    "- Let $x_{i},(i = 1, 2, 3, 4)$ as the amount of using the pattern $i$ as generating matierals \n",
    "- Let $x$ as the total amout of the circle materials, $y$ as the total amount of the rectangle materials, so we need $x >= 2y$ \n",
    "- the wasting materials are all the areas that are not used times the per price.\n",
    "\n",
    "we can easily have the codes for solving the problem as follow:\n"
   ]
  },
  {
   "cell_type": "code",
   "execution_count": 5,
   "metadata": {},
   "outputs": [
    {
     "name": "stdout",
     "output_type": "stream",
     "text": [
      "T3 Result:\n",
      "x_1 = 0.0\n",
      "x_2 = 40125.0\n",
      "x_3 = 3750.0\n",
      "x_4 = 20000.0\n",
      "Total Profits:  4298.013921110274\n",
      "Total cans:  160250.0\n",
      "Total heads:  320500.0\n"
     ]
    }
   ],
   "source": [
    "\n",
    "prob4 = pulp.LpProblem('T3', pulp.LpMaximize)\n",
    "\n",
    "x_m4 = [pulp.LpVariable(f'x_{i + 1}', upBound = 50000, lowBound = 0, cat = 'Integer') for i in range(4)]\n",
    "tot_x = x_m4[0] * 10 + x_m4[1] * 4 + x_m4[2] * 16 + x_m4[3] * 5\n",
    "tot_y = x_m4[0] + x_m4[1] * 2 + x_m4[3] * 4\n",
    "tot_n1 = x_m4[0] + x_m4[1] + x_m4[2] \n",
    "\n",
    "#define the problem\n",
    "prob4 += tot_y * 0.1  - (tot_n1 * 24 * 24 + x_m4[3] * 32 *28 - tot_y * (2 * 2.5 * 2.5 * math.pi + 10 * 5 * math.pi)) * 0.001\n",
    "\n",
    "#define the constrains\n",
    "prob4 += tot_n1 <= 50000\n",
    "prob4 += x_m4[3] <= 20000\n",
    "prob4 += tot_x >= 2 * tot_y\n",
    "prob4 += 1.5 * x_m4[0] + 2 * x_m4[1] + x_m4[2] + 3 * x_m4[3] <= 40 * 3600\n",
    "\n",
    "prob4.solve()\n",
    "print('T3 Result:')\n",
    "for variable in prob4.variables():\n",
    "    print(variable.name, \"=\", variable.varValue)\n",
    "print(\"Total Profits: \", pulp.value(prob4.objective))\n",
    "print(\"Total cans: \", pulp.value(tot_y))\n",
    "print(\"Total heads: \", pulp.value(tot_x))\n"
   ]
  },
  {
   "attachments": {},
   "cell_type": "markdown",
   "metadata": {},
   "source": [
    "From the calculation above, we can easily find the maximum profits can be earned is $4298.014$, and we can generate $160250$ cans. the conditions of the generating are as follows\n",
    "- `pattern 2`: $40125$\n",
    "- `pattern 3`: $3750$\n",
    "- `pattern 4`: $20000$ "
   ]
  }
 ],
 "metadata": {
  "kernelspec": {
   "display_name": "Python 3",
   "language": "python",
   "name": "python3"
  },
  "language_info": {
   "codemirror_mode": {
    "name": "ipython",
    "version": 3
   },
   "file_extension": ".py",
   "mimetype": "text/x-python",
   "name": "python",
   "nbconvert_exporter": "python",
   "pygments_lexer": "ipython3",
   "version": "3.11.2"
  },
  "orig_nbformat": 4
 },
 "nbformat": 4,
 "nbformat_minor": 2
}
